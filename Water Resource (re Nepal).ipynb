{
 "cells": [
  {
   "cell_type": "code",
   "execution_count": null,
   "metadata": {},
   "outputs": [],
   "source": [
    "# World Water Resource (compariton with respect to Nepal)\n",
    "# 2019/3/9\n",
    "\n",
    "from bs4 import BeautifulSoup\n",
    "import requests \n",
    "import pandas as pd\n",
    "\n",
    "    \n",
    "#Web Scrping for renewable water resources \n",
    "\n",
    "URL='https://en.wikipedia.org/wiki/List_of_countries_by_total_renewable_water_resources#cite_note-4'\n",
    "response=requests.get(URL)\n",
    "soup=BeautifulSoup(response.text,'html.parser')\n",
    "\n",
    "table=soup.find('table',{'class':'wikitable sortable'}).tbody  #table body with class nanme 'wikitable sortable'\n",
    "\n",
    "rows=table.find_all('tr')\n",
    "\n",
    "columns=[v.text.replace('\\n','') for v in rows[0].find_all('th')] # extracting name from only first column \n",
    "\n",
    "\n",
    "df=pd.DataFrame(columns=columns)\n",
    "\n",
    "for i in range(1,len(rows)):\n",
    "    tds=rows[i].find_all('td')\n",
    "    \n",
    "    if len(tds)==3:\n",
    "        values=[tds[0].text,tds[1].text.replace('\\xa0',''),tds[2].text.replace('\\n','')]\n",
    "    else:\n",
    "        values=[td.text.replace('\\xa0','').replace('\\n','') for td in tds]\n",
    "    #print(values)\n",
    "    #break\n",
    "    \n",
    "    df=df.append(pd.Series(values,index=columns),ignore_index=True)\n",
    "    df.to_csv(r'C:\\Users\\User\\Desktop\\data1.csv',index=False)\n"
   ]
  },
  {
   "cell_type": "code",
   "execution_count": null,
   "metadata": {
    "scrolled": false
   },
   "outputs": [],
   "source": [
    "#for countries area\n",
    "URL='https://simple.wikipedia.org/wiki/List_of_countries_by_area'\n",
    "response=requests.get(URL)\n",
    "soup=BeautifulSoup(response.text,'html.parser')\n",
    "\n",
    "table=soup.find('table',{'class':False}).tbody\n",
    "\n",
    "rows=table.find_all('tr')\n",
    "\n",
    "#print(rows)\n",
    "\n",
    "columns=[v.text.replace('\\n','') for v in rows[0].find_all('th') ]\n",
    "\n",
    "df=pd.DataFrame(columns=columns)\n",
    "\n",
    "\n",
    "for i in range(1,len(rows)):\n",
    "    tds=rows[i].find_all('td')\n",
    "    if len(tds)==2:\n",
    "        values=[tds[0].text,tds[1].text.tds[2].text.replace('\\n','')]\n",
    "    else:\n",
    "        values=[td.text.replace('\\n','') for td in tds]\n",
    "    #print(values)\n",
    "    df=df.append(pd.Series(values,index=columns),ignore_index=True)\n",
    "    df.to_csv(r'C:\\Users\\User\\Desktop\\data2.csv',index=False)\n"
   ]
  },
  {
   "cell_type": "code",
   "execution_count": 17,
   "metadata": {},
   "outputs": [],
   "source": [
    "#for world population\n",
    "\n",
    "from bs4 import BeautifulSoup\n",
    "import requests \n",
    "import pandas as pd\n",
    "\n",
    "\n",
    "URL='https://en.wikipedia.org/wiki/List_of_countries_by_population_(United_Nations)'\n",
    "response=requests.get(URL)\n",
    "soup=BeautifulSoup(response.text,'html.parser')\n",
    "\n",
    "#print(soup)\n",
    "\n",
    "table=soup.find('table',{'class':'wikitable sortable plainrowheaders'}).tbody\n",
    "\n",
    "rows=table.find_all('tr')\n",
    "\n",
    "columns=[v.text.replace('\\n','').replace('[4]','').replace('[5]','') for v in rows[0].find_all('th')]\n",
    "\n",
    "\n",
    "df=pd.DataFrame(columns=columns)\n",
    "\n",
    "for i in range(1,len(rows)):\n",
    "    tds=rows[i].find_all('td')\n",
    "    if len(tds)==7:\n",
    "        values=[tds[0].text.replace('\\n',''),tds[1].text.replace('\\xa0','').replace(\"['a:z']\",''),tds[2].text,tds[3].text.replace('\\n',''),tds[4].text.replace('\\n',''),tds[5].text.replace('\\n',''),tds[6].text.replace('\\n','')]\n",
    "    else:\n",
    "        values=[td.text.replace('\\n','') for td in tds]\n",
    "    \n",
    "    df=df.append(pd.Series(values,index=columns),ignore_index=True)\n",
    "df.to_csv(r'C:\\Users\\User\\Desktop\\data3.csv',index=False)\n",
    "    \n",
    "\n",
    "#print(columns)\n",
    "\n",
    "#print(table)"
   ]
  },
  {
   "cell_type": "code",
   "execution_count": null,
   "metadata": {},
   "outputs": [],
   "source": [
    "'''## combining the two data sets\n",
    "\n",
    "import csv\n",
    "import glob\n",
    "\n",
    "csvfile=glob.glob(r'C:\\Users\\User\\Desktop\\*.csv')\n",
    "wf=csv.writer(r'C:\\Users\\User\\Desktop\\output.csv')\n",
    "\n",
    "for files in csvfile:\n",
    "    #print(files)\n",
    "    rd=csv.reader(open(files,'r'),delimiter=',')\n",
    "    next(rd)\n",
    "    for row in rd:\n",
    "        #print(row)\n",
    "        wf.writerow(wf)'''\n",
    "        \n"
   ]
  },
  {
   "cell_type": "code",
   "execution_count": null,
   "metadata": {},
   "outputs": [],
   "source": [
    "'''import os\n",
    "import glob\n",
    "import pandas as pd\n",
    "\n",
    "def concatenate(indir=r'C:\\Users\\User\\Desktop',output=\"C:\\\\Users\\\\User\\\\Desktop\\\\output.csv\"):\n",
    "    os.chdir(indir)\n",
    "    print(os.getcwd())\n",
    "    fileList=glob.glob(\"*.csv\")\n",
    "    print(fileList)\n",
    "    dfList=[]\n",
    "    colnames=[\"Country\",\"Total renewable  water resources  (km³)\",\"Date of  Information\",\"Area (km²)\"]\n",
    "    \n",
    "    for filename in fileList:\n",
    "        print(filename)\n",
    "        df=pd.read_csv(filename,header=None,encoding = \"ISO-8859-1\")\n",
    "        print(df)\n",
    "        dfList.append(df)\n",
    "    concatDF=pd.concat(dfList,axis=0,sort=True)\n",
    "    concatDF.columns=colnames\n",
    "    concatDF.to_csv(output)\n",
    "    \n",
    "concatenate()'''"
   ]
  },
  {
   "cell_type": "code",
   "execution_count": null,
   "metadata": {},
   "outputs": [],
   "source": [
    "import os\n",
    "import numpy as np\n",
    "import pandas as pd\n",
    "import seaborn as sns\n",
    "import matplotlib.pyplot as plt\n",
    "\n",
    "%matplotlib inline\n",
    "os.chdir(r'C:\\Users\\User\\Desktop')\n",
    "print(os.getcwd())\n",
    "data1=pd.read_csv(r'test1.csv',encoding = \"ISO-8859-1\")\n",
    "#data=sns.load_dataset('tips')\n",
    "data1.head()\n",
    "sns.barplot(x='Total renewable  water resources  (km³)',y='Country',data=data1)\n"
   ]
  },
  {
   "cell_type": "code",
   "execution_count": null,
   "metadata": {},
   "outputs": [],
   "source": [
    "sns.barplot(x='Total renewable water resource(km³) per Area (million km²)',y='Country',data=data1)"
   ]
  },
  {
   "cell_type": "code",
   "execution_count": null,
   "metadata": {},
   "outputs": [],
   "source": [
    "data2=data1.sort_values('Total renewable water resource(km³) per Area (million km²)',ascending=False)\n",
    "sns.barplot(x='Total renewable water resource(km³) per Area (million km²)',y='Country',data=data2)\n",
    "\n"
   ]
  },
  {
   "cell_type": "code",
   "execution_count": null,
   "metadata": {},
   "outputs": [],
   "source": [
    "plt.savefig(\"total renewable water resource (km3) per Area (million Km2)\",bbox_inches=\"tight\",pad_inches=1,transparen=True)"
   ]
  }
 ],
 "metadata": {
  "kernelspec": {
   "display_name": "Python 3",
   "language": "python",
   "name": "python3"
  },
  "language_info": {
   "codemirror_mode": {
    "name": "ipython",
    "version": 3
   },
   "file_extension": ".py",
   "mimetype": "text/x-python",
   "name": "python",
   "nbconvert_exporter": "python",
   "pygments_lexer": "ipython3",
   "version": "3.6.5"
  }
 },
 "nbformat": 4,
 "nbformat_minor": 2
}
